{
 "cells": [
  {
   "cell_type": "code",
   "execution_count": null,
   "id": "a4c65d6d",
   "metadata": {},
   "outputs": [],
   "source": [
    "from src import functions as f\n",
    "%load_ext autoreload\n",
    "%autoreload 2\n",
    "\n",
    "import pandas as pd\n",
    "import numpy as np\n",
    "\n",
    "import warnings\n",
    "warnings.filterwarnings('ignore')"
   ]
  },
  {
   "cell_type": "code",
   "execution_count": null,
   "id": "8682dfae",
   "metadata": {},
   "outputs": [],
   "source": [
    "# download / extract tables\n",
    "f.download_tables()"
   ]
  },
  {
   "cell_type": "code",
   "execution_count": null,
   "id": "46af87a8",
   "metadata": {},
   "outputs": [],
   "source": [
    "# old way with functions: \n",
    "# load / transform tables\n",
    "# f.load_transform_tables()\n",
    "\n",
    "\n",
    "# new way with OOP:\n",
    "transformer = f.transforms(stock_list = f.read_symbols_csv())\n",
    "transformer.load_transform_tables()"
   ]
  },
  {
   "cell_type": "code",
   "execution_count": null,
   "id": "f76fdd50",
   "metadata": {},
   "outputs": [],
   "source": [
    "nvda_1h_model = pd.read_pickle('./models/nvda_15m_model_df.pkl')\n",
    "nvda_1h_model"
   ]
  },
  {
   "cell_type": "code",
   "execution_count": null,
   "id": "ad66581f",
   "metadata": {},
   "outputs": [],
   "source": []
  }
 ],
 "metadata": {
  "kernelspec": {
   "display_name": "Python 3 (ipykernel)",
   "language": "python",
   "name": "python3"
  },
  "language_info": {
   "codemirror_mode": {
    "name": "ipython",
    "version": 3
   },
   "file_extension": ".py",
   "mimetype": "text/x-python",
   "name": "python",
   "nbconvert_exporter": "python",
   "pygments_lexer": "ipython3",
   "version": "3.8.10"
  }
 },
 "nbformat": 4,
 "nbformat_minor": 5
}
