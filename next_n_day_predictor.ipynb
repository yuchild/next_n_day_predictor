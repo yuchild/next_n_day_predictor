{
 "cells": [
  {
   "cell_type": "code",
   "execution_count": 1,
   "id": "a4c65d6d",
   "metadata": {},
   "outputs": [],
   "source": [
    "from src import functions as f\n",
    "%load_ext autoreload\n",
    "%autoreload 2\n",
    "\n",
    "import pandas as pd\n",
    "import numpy as np\n",
    "\n",
    "import warnings\n",
    "warnings.filterwarnings('ignore')"
   ]
  },
  {
   "cell_type": "code",
   "execution_count": 4,
   "id": "8682dfae",
   "metadata": {},
   "outputs": [
    {
     "name": "stdout",
     "output_type": "stream",
     "text": [
      "Start time: 2024-07-17 03:31:19\n",
      "Downloaded 56 max daily, hourly, 30m, and 15m stock data\n",
      "End Time: 2024-07-17 03:32:24\n"
     ]
    }
   ],
   "source": [
    "# download / extract tables\n",
    "f.download_tables()"
   ]
  },
  {
   "cell_type": "code",
   "execution_count": null,
   "id": "46af87a8",
   "metadata": {},
   "outputs": [],
   "source": [
    "# load / transform tables\n",
    "f.load_transform_tables()"
   ]
  },
  {
   "cell_type": "code",
   "execution_count": null,
   "id": "f76fdd50",
   "metadata": {
    "scrolled": false
   },
   "outputs": [],
   "source": [
    "nvda_1h_model = pd.read_pickle('./models/nvda_15m_model_df.pkl')\n",
    "nvda_1h_model.iloc[20:80]"
   ]
  },
  {
   "cell_type": "code",
   "execution_count": null,
   "id": "63f9362b",
   "metadata": {},
   "outputs": [],
   "source": [
    "nvda_1h_model = pd.read_pickle('./data/nvda_15m_df.pkl')\n",
    "nvda_1h_model.tail()"
   ]
  },
  {
   "cell_type": "code",
   "execution_count": null,
   "id": "6aef5c52",
   "metadata": {},
   "outputs": [],
   "source": []
  }
 ],
 "metadata": {
  "kernelspec": {
   "display_name": "Python 3 (ipykernel)",
   "language": "python",
   "name": "python3"
  },
  "language_info": {
   "codemirror_mode": {
    "name": "ipython",
    "version": 3
   },
   "file_extension": ".py",
   "mimetype": "text/x-python",
   "name": "python",
   "nbconvert_exporter": "python",
   "pygments_lexer": "ipython3",
   "version": "3.10.9"
  }
 },
 "nbformat": 4,
 "nbformat_minor": 5
}
