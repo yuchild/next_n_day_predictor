{
 "cells": [
  {
   "cell_type": "code",
   "execution_count": 1,
   "id": "a4c65d6d",
   "metadata": {},
   "outputs": [],
   "source": [
    "from src import functions as f\n",
    "\n",
    "%load_ext autoreload\n",
    "%autoreload 2\n",
    "\n",
    "import pandas as pd\n",
    "import numpy as np\n",
    "\n",
    "import warnings\n",
    "warnings.filterwarnings('ignore')"
   ]
  },
  {
   "cell_type": "code",
   "execution_count": 2,
   "id": "8682dfae",
   "metadata": {},
   "outputs": [
    {
     "name": "stdout",
     "output_type": "stream",
     "text": [
      "Start time: 2024-09-01 23:55:29\n",
      "Downloaded 56 max daily, hourly, 30m, and 15m stock data\n",
      "End Time: 2024-09-01 23:56:26\n"
     ]
    }
   ],
   "source": [
    "# download / extract tables\n",
    "f.download_tables()"
   ]
  },
  {
   "cell_type": "code",
   "execution_count": null,
   "id": "46af87a8",
   "metadata": {},
   "outputs": [],
   "source": [
    "# old way with functions: \n",
    "# load / transform tables\n",
    "# f.load_transform_tables()\n",
    "\n",
    "\n",
    "# new way with OOP:\n",
    "transformer = f.transforms(stock_list = f.read_symbols_csv())\n",
    "transformer.load_transform_tables()"
   ]
  },
  {
   "cell_type": "code",
   "execution_count": null,
   "id": "f76fdd50",
   "metadata": {},
   "outputs": [],
   "source": [
    "nvda_1h_model = pd.read_pickle('./models/nvda_15m_model_df.pkl')\n",
    "nvda_1h_model"
   ]
  },
  {
   "cell_type": "code",
   "execution_count": null,
   "id": "997c9df7-b62d-42a3-9a1d-9aac69f0901d",
   "metadata": {},
   "outputs": [],
   "source": [
    "nvda_1h_model.info()"
   ]
  },
  {
   "cell_type": "code",
   "execution_count": null,
   "id": "b19a53c6-d099-49ed-b44d-5071c9e1c270",
   "metadata": {},
   "outputs": [],
   "source": []
  },
  {
   "cell_type": "code",
   "execution_count": null,
   "id": "2211f6e9-cd07-46a3-bb4b-e00b51cc93f1",
   "metadata": {},
   "outputs": [],
   "source": []
  },
  {
   "cell_type": "code",
   "execution_count": null,
   "id": "873c7a2b-d406-41c3-a8fd-f47484cfc26f",
   "metadata": {},
   "outputs": [],
   "source": []
  },
  {
   "cell_type": "code",
   "execution_count": null,
   "id": "9e3fea8f-cbca-417a-ac48-c56130daf27d",
   "metadata": {},
   "outputs": [],
   "source": []
  },
  {
   "cell_type": "code",
   "execution_count": null,
   "id": "9c86147c-2602-4cec-83ea-d3102a5a2b5e",
   "metadata": {},
   "outputs": [],
   "source": []
  },
  {
   "cell_type": "code",
   "execution_count": null,
   "id": "98fbeb41-4604-47e0-a2c8-bfa943377a95",
   "metadata": {},
   "outputs": [],
   "source": []
  },
  {
   "cell_type": "code",
   "execution_count": null,
   "id": "adaf40f8-c66f-44bb-99af-b96abd1b3051",
   "metadata": {},
   "outputs": [],
   "source": []
  },
  {
   "cell_type": "code",
   "execution_count": null,
   "id": "42d598e2-661e-4ab7-b18f-db571284586e",
   "metadata": {},
   "outputs": [],
   "source": []
  },
  {
   "cell_type": "code",
   "execution_count": null,
   "id": "df95f122-84a3-430b-bb4d-0a5abf249ef0",
   "metadata": {},
   "outputs": [],
   "source": []
  }
 ],
 "metadata": {
  "kernelspec": {
   "display_name": "Python 3 (ipykernel)",
   "language": "python",
   "name": "python3"
  },
  "language_info": {
   "codemirror_mode": {
    "name": "ipython",
    "version": 3
   },
   "file_extension": ".py",
   "mimetype": "text/x-python",
   "name": "python",
   "nbconvert_exporter": "python",
   "pygments_lexer": "ipython3",
   "version": "3.10.14"
  }
 },
 "nbformat": 4,
 "nbformat_minor": 5
}
