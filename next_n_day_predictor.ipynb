{
 "cells": [
  {
   "cell_type": "code",
   "execution_count": 1,
   "id": "a4c65d6d",
   "metadata": {},
   "outputs": [],
   "source": [
    "from src import functions as f\n",
    "\n",
    "%load_ext autoreload\n",
    "%autoreload 2\n",
    "\n",
    "import pandas as pd\n",
    "import numpy as np\n",
    "\n",
    "import warnings\n",
    "warnings.filterwarnings('ignore')"
   ]
  },
  {
   "cell_type": "code",
   "execution_count": 2,
   "id": "8682dfae",
   "metadata": {},
   "outputs": [
    {
     "name": "stderr",
     "output_type": "stream",
     "text": [
      "$INTC: possibly delisted; no price data found  (1d 1980-03-16 -> 2024-09-10)\n",
      "$VBIV: possibly delisted; no price data found  (period=1mo)\n",
      "$VBIV: possibly delisted; no price data found  (period=1mo)\n"
     ]
    },
    {
     "name": "stdout",
     "output_type": "stream",
     "text": [
      "Start time: 2024-09-09 22:32:14\n",
      "Downloaded 56 max daily, hourly, 30m, and 15m stock data\n",
      "End Time: 2024-09-09 22:33:28\n"
     ]
    }
   ],
   "source": [
    "# download / extract tables\n",
    "f.download_tables()"
   ]
  },
  {
   "cell_type": "code",
   "execution_count": 3,
   "id": "46af87a8",
   "metadata": {},
   "outputs": [
    {
     "ename": "ValueError",
     "evalue": "shapes (1,1) and (0,) not aligned: 1 (dim 1) != 0 (dim 0)",
     "output_type": "error",
     "traceback": [
      "\u001b[0;31m---------------------------------------------------------------------------\u001b[0m",
      "\u001b[0;31mValueError\u001b[0m                                Traceback (most recent call last)",
      "Cell \u001b[0;32mIn[3], line 8\u001b[0m\n\u001b[1;32m      1\u001b[0m \u001b[38;5;66;03m# old way with functions: \u001b[39;00m\n\u001b[1;32m      2\u001b[0m \u001b[38;5;66;03m# load / transform tables\u001b[39;00m\n\u001b[1;32m      3\u001b[0m \u001b[38;5;66;03m# f.load_transform_tables()\u001b[39;00m\n\u001b[1;32m      4\u001b[0m \n\u001b[1;32m      5\u001b[0m \n\u001b[1;32m      6\u001b[0m \u001b[38;5;66;03m# new way with OOP:\u001b[39;00m\n\u001b[1;32m      7\u001b[0m transformer \u001b[38;5;241m=\u001b[39m f\u001b[38;5;241m.\u001b[39mtransforms(stock_list \u001b[38;5;241m=\u001b[39m f\u001b[38;5;241m.\u001b[39mread_symbols_csv())\n\u001b[0;32m----> 8\u001b[0m \u001b[43mtransformer\u001b[49m\u001b[38;5;241;43m.\u001b[39;49m\u001b[43mload_transform_tables\u001b[49m\u001b[43m(\u001b[49m\u001b[43m)\u001b[49m\n",
      "File \u001b[0;32m/media/oem/onetbsamdot/ezt/github/next_n_day_predictor/src/functions.py:105\u001b[0m, in \u001b[0;36mtransforms.load_transform_tables\u001b[0;34m(self)\u001b[0m\n\u001b[1;32m    103\u001b[0m \u001b[38;5;28;01mdef\u001b[39;00m \u001b[38;5;21mload_transform_tables\u001b[39m(\u001b[38;5;28mself\u001b[39m):\n\u001b[1;32m    104\u001b[0m     \u001b[38;5;28;01mfor\u001b[39;00m item \u001b[38;5;129;01min\u001b[39;00m \u001b[38;5;28mself\u001b[39m\u001b[38;5;241m.\u001b[39mstock_list:\n\u001b[0;32m--> 105\u001b[0m         \u001b[38;5;28;43mself\u001b[39;49m\u001b[38;5;241;43m.\u001b[39;49m\u001b[43mtransform_data\u001b[49m\u001b[43m(\u001b[49m\u001b[43mitem\u001b[49m\u001b[43m[\u001b[49m\u001b[38;5;241;43m0\u001b[39;49m\u001b[43m]\u001b[49m\u001b[43m,\u001b[49m\u001b[43m \u001b[49m\u001b[38;5;124;43m'\u001b[39;49m\u001b[38;5;124;43m1d\u001b[39;49m\u001b[38;5;124;43m'\u001b[39;49m\u001b[43m)\u001b[49m\n\u001b[1;32m    106\u001b[0m         \u001b[38;5;28mself\u001b[39m\u001b[38;5;241m.\u001b[39mtransform_data(item[\u001b[38;5;241m0\u001b[39m], \u001b[38;5;124m'\u001b[39m\u001b[38;5;124m1h\u001b[39m\u001b[38;5;124m'\u001b[39m)\n\u001b[1;32m    107\u001b[0m         \u001b[38;5;28mself\u001b[39m\u001b[38;5;241m.\u001b[39mtransform_data(item[\u001b[38;5;241m0\u001b[39m], \u001b[38;5;124m'\u001b[39m\u001b[38;5;124m30m\u001b[39m\u001b[38;5;124m'\u001b[39m)\n",
      "File \u001b[0;32m/media/oem/onetbsamdot/ezt/github/next_n_day_predictor/src/functions.py:121\u001b[0m, in \u001b[0;36mtransforms.transform_data\u001b[0;34m(self, stock, timeframe)\u001b[0m\n\u001b[1;32m    113\u001b[0m \u001b[38;5;66;03m# Kalman filtering (noise reduction algorithm)\u001b[39;00m\n\u001b[1;32m    114\u001b[0m kf \u001b[38;5;241m=\u001b[39m KalmanFilter(transition_matrices\u001b[38;5;241m=\u001b[39m[\u001b[38;5;241m1\u001b[39m],\n\u001b[1;32m    115\u001b[0m                   observation_matrices\u001b[38;5;241m=\u001b[39m[\u001b[38;5;241m1\u001b[39m],\n\u001b[1;32m    116\u001b[0m                   initial_state_mean\u001b[38;5;241m=\u001b[39m\u001b[38;5;241m0\u001b[39m,\n\u001b[1;32m    117\u001b[0m                   initial_state_covariance\u001b[38;5;241m=\u001b[39m\u001b[38;5;241m1\u001b[39m,\n\u001b[1;32m    118\u001b[0m                   observation_covariance\u001b[38;5;241m=\u001b[39m\u001b[38;5;241m1\u001b[39m,\n\u001b[1;32m    119\u001b[0m                   transition_covariance\u001b[38;5;241m=\u001b[39m\u001b[38;5;241m0.01\u001b[39m)\n\u001b[0;32m--> 121\u001b[0m state_means, _ \u001b[38;5;241m=\u001b[39m \u001b[43mkf\u001b[49m\u001b[38;5;241;43m.\u001b[39;49m\u001b[43mfilter\u001b[49m\u001b[43m(\u001b[49m\u001b[43mstock_df\u001b[49m\u001b[43m[\u001b[49m\u001b[38;5;124;43m'\u001b[39;49m\u001b[38;5;124;43mClose\u001b[39;49m\u001b[38;5;124;43m'\u001b[39;49m\u001b[43m]\u001b[49m\u001b[38;5;241;43m.\u001b[39;49m\u001b[43mvalues\u001b[49m\u001b[43m)\u001b[49m\n\u001b[1;32m    122\u001b[0m state_means \u001b[38;5;241m=\u001b[39m pd\u001b[38;5;241m.\u001b[39mSeries(state_means\u001b[38;5;241m.\u001b[39mflatten(), index\u001b[38;5;241m=\u001b[39mstock_df\u001b[38;5;241m.\u001b[39mindex)\n\u001b[1;32m    123\u001b[0m stock_df[\u001b[38;5;124m'\u001b[39m\u001b[38;5;124mkma\u001b[39m\u001b[38;5;124m'\u001b[39m] \u001b[38;5;241m=\u001b[39m state_means\n",
      "File \u001b[0;32m~/.local/lib/python3.10/site-packages/pykalman/standard.py:1170\u001b[0m, in \u001b[0;36mKalmanFilter.filter\u001b[0;34m(self, X)\u001b[0m\n\u001b[1;32m   1160\u001b[0m Z \u001b[38;5;241m=\u001b[39m \u001b[38;5;28mself\u001b[39m\u001b[38;5;241m.\u001b[39m_parse_observations(X)\n\u001b[1;32m   1162\u001b[0m (transition_matrices, transition_offsets, transition_covariance,\n\u001b[1;32m   1163\u001b[0m  observation_matrices, observation_offsets, observation_covariance,\n\u001b[1;32m   1164\u001b[0m  initial_state_mean, initial_state_covariance) \u001b[38;5;241m=\u001b[39m (\n\u001b[1;32m   1165\u001b[0m     \u001b[38;5;28mself\u001b[39m\u001b[38;5;241m.\u001b[39m_initialize_parameters()\n\u001b[1;32m   1166\u001b[0m )\n\u001b[1;32m   1168\u001b[0m (_, _, _, filtered_state_means,\n\u001b[1;32m   1169\u001b[0m  filtered_state_covariances) \u001b[38;5;241m=\u001b[39m (\n\u001b[0;32m-> 1170\u001b[0m     \u001b[43m_filter\u001b[49m\u001b[43m(\u001b[49m\n\u001b[1;32m   1171\u001b[0m \u001b[43m        \u001b[49m\u001b[43mtransition_matrices\u001b[49m\u001b[43m,\u001b[49m\u001b[43m \u001b[49m\u001b[43mobservation_matrices\u001b[49m\u001b[43m,\u001b[49m\n\u001b[1;32m   1172\u001b[0m \u001b[43m        \u001b[49m\u001b[43mtransition_covariance\u001b[49m\u001b[43m,\u001b[49m\u001b[43m \u001b[49m\u001b[43mobservation_covariance\u001b[49m\u001b[43m,\u001b[49m\n\u001b[1;32m   1173\u001b[0m \u001b[43m        \u001b[49m\u001b[43mtransition_offsets\u001b[49m\u001b[43m,\u001b[49m\u001b[43m \u001b[49m\u001b[43mobservation_offsets\u001b[49m\u001b[43m,\u001b[49m\n\u001b[1;32m   1174\u001b[0m \u001b[43m        \u001b[49m\u001b[43minitial_state_mean\u001b[49m\u001b[43m,\u001b[49m\u001b[43m \u001b[49m\u001b[43minitial_state_covariance\u001b[49m\u001b[43m,\u001b[49m\n\u001b[1;32m   1175\u001b[0m \u001b[43m        \u001b[49m\u001b[43mZ\u001b[49m\n\u001b[1;32m   1176\u001b[0m \u001b[43m    \u001b[49m\u001b[43m)\u001b[49m\n\u001b[1;32m   1177\u001b[0m )\n\u001b[1;32m   1178\u001b[0m \u001b[38;5;28;01mreturn\u001b[39;00m (filtered_state_means, filtered_state_covariances)\n",
      "File \u001b[0;32m~/.local/lib/python3.10/site-packages/pykalman/standard.py:388\u001b[0m, in \u001b[0;36m_filter\u001b[0;34m(transition_matrices, observation_matrices, transition_covariance, observation_covariance, transition_offsets, observation_offsets, initial_state_mean, initial_state_covariance, observations)\u001b[0m\n\u001b[1;32m    384\u001b[0m     observation_covariance \u001b[38;5;241m=\u001b[39m _last_dims(observation_covariance, t)\n\u001b[1;32m    385\u001b[0m     observation_offset \u001b[38;5;241m=\u001b[39m _last_dims(observation_offsets, t, ndims\u001b[38;5;241m=\u001b[39m\u001b[38;5;241m1\u001b[39m)\n\u001b[1;32m    386\u001b[0m     (kalman_gains[t], filtered_state_means[t],\n\u001b[1;32m    387\u001b[0m      filtered_state_covariances[t]) \u001b[38;5;241m=\u001b[39m (\n\u001b[0;32m--> 388\u001b[0m         \u001b[43m_filter_correct\u001b[49m\u001b[43m(\u001b[49m\u001b[43mobservation_matrix\u001b[49m\u001b[43m,\u001b[49m\n\u001b[1;32m    389\u001b[0m \u001b[43m            \u001b[49m\u001b[43mobservation_covariance\u001b[49m\u001b[43m,\u001b[49m\n\u001b[1;32m    390\u001b[0m \u001b[43m            \u001b[49m\u001b[43mobservation_offset\u001b[49m\u001b[43m,\u001b[49m\n\u001b[1;32m    391\u001b[0m \u001b[43m            \u001b[49m\u001b[43mpredicted_state_means\u001b[49m\u001b[43m[\u001b[49m\u001b[43mt\u001b[49m\u001b[43m]\u001b[49m\u001b[43m,\u001b[49m\n\u001b[1;32m    392\u001b[0m \u001b[43m            \u001b[49m\u001b[43mpredicted_state_covariances\u001b[49m\u001b[43m[\u001b[49m\u001b[43mt\u001b[49m\u001b[43m]\u001b[49m\u001b[43m,\u001b[49m\n\u001b[1;32m    393\u001b[0m \u001b[43m            \u001b[49m\u001b[43mobservations\u001b[49m\u001b[43m[\u001b[49m\u001b[43mt\u001b[49m\u001b[43m]\u001b[49m\n\u001b[1;32m    394\u001b[0m \u001b[43m        \u001b[49m\u001b[43m)\u001b[49m\n\u001b[1;32m    395\u001b[0m     )\n\u001b[1;32m    397\u001b[0m \u001b[38;5;28;01mreturn\u001b[39;00m (predicted_state_means, predicted_state_covariances,\n\u001b[1;32m    398\u001b[0m         kalman_gains, filtered_state_means,\n\u001b[1;32m    399\u001b[0m         filtered_state_covariances)\n",
      "File \u001b[0;32m~/.local/lib/python3.10/site-packages/pykalman/standard.py:278\u001b[0m, in \u001b[0;36m_filter_correct\u001b[0;34m(observation_matrix, observation_covariance, observation_offset, predicted_state_mean, predicted_state_covariance, observation)\u001b[0m\n\u001b[1;32m    263\u001b[0m     predicted_observation_covariance \u001b[38;5;241m=\u001b[39m (\n\u001b[1;32m    264\u001b[0m         np\u001b[38;5;241m.\u001b[39mdot(observation_matrix,\n\u001b[1;32m    265\u001b[0m                np\u001b[38;5;241m.\u001b[39mdot(predicted_state_covariance,\n\u001b[1;32m    266\u001b[0m                       observation_matrix\u001b[38;5;241m.\u001b[39mT))\n\u001b[1;32m    267\u001b[0m         \u001b[38;5;241m+\u001b[39m observation_covariance\n\u001b[1;32m    268\u001b[0m     )\n\u001b[1;32m    270\u001b[0m     kalman_gain \u001b[38;5;241m=\u001b[39m (\n\u001b[1;32m    271\u001b[0m         np\u001b[38;5;241m.\u001b[39mdot(predicted_state_covariance,\n\u001b[1;32m    272\u001b[0m                np\u001b[38;5;241m.\u001b[39mdot(observation_matrix\u001b[38;5;241m.\u001b[39mT,\n\u001b[1;32m    273\u001b[0m                       linalg\u001b[38;5;241m.\u001b[39mpinv(predicted_observation_covariance)))\n\u001b[1;32m    274\u001b[0m     )\n\u001b[1;32m    276\u001b[0m     corrected_state_mean \u001b[38;5;241m=\u001b[39m (\n\u001b[1;32m    277\u001b[0m         predicted_state_mean\n\u001b[0;32m--> 278\u001b[0m         \u001b[38;5;241m+\u001b[39m \u001b[43mnp\u001b[49m\u001b[38;5;241;43m.\u001b[39;49m\u001b[43mdot\u001b[49m\u001b[43m(\u001b[49m\u001b[43mkalman_gain\u001b[49m\u001b[43m,\u001b[49m\u001b[43m \u001b[49m\u001b[43mobservation\u001b[49m\u001b[43m \u001b[49m\u001b[38;5;241;43m-\u001b[39;49m\u001b[43m \u001b[49m\u001b[43mpredicted_observation_mean\u001b[49m\u001b[43m)\u001b[49m\n\u001b[1;32m    279\u001b[0m     )\n\u001b[1;32m    280\u001b[0m     corrected_state_covariance \u001b[38;5;241m=\u001b[39m (\n\u001b[1;32m    281\u001b[0m         predicted_state_covariance\n\u001b[1;32m    282\u001b[0m         \u001b[38;5;241m-\u001b[39m np\u001b[38;5;241m.\u001b[39mdot(kalman_gain,\n\u001b[1;32m    283\u001b[0m                  np\u001b[38;5;241m.\u001b[39mdot(observation_matrix,\n\u001b[1;32m    284\u001b[0m                         predicted_state_covariance))\n\u001b[1;32m    285\u001b[0m     )\n\u001b[1;32m    286\u001b[0m \u001b[38;5;28;01melse\u001b[39;00m:\n",
      "\u001b[0;31mValueError\u001b[0m: shapes (1,1) and (0,) not aligned: 1 (dim 1) != 0 (dim 0)"
     ]
    }
   ],
   "source": [
    "# old way with functions: \n",
    "# load / transform tables\n",
    "# f.load_transform_tables()\n",
    "\n",
    "\n",
    "# new way with OOP:\n",
    "transformer = f.transforms(stock_list = f.read_symbols_csv())\n",
    "transformer.load_transform_tables()"
   ]
  },
  {
   "cell_type": "code",
   "execution_count": null,
   "id": "f76fdd50",
   "metadata": {},
   "outputs": [],
   "source": [
    "nvda_1h_model = pd.read_pickle('./models/nvda_15m_model_df.pkl')\n",
    "nvda_1h_model"
   ]
  },
  {
   "cell_type": "code",
   "execution_count": null,
   "id": "997c9df7-b62d-42a3-9a1d-9aac69f0901d",
   "metadata": {},
   "outputs": [],
   "source": [
    "nvda_1h_model.info()"
   ]
  },
  {
   "cell_type": "code",
   "execution_count": null,
   "id": "b19a53c6-d099-49ed-b44d-5071c9e1c270",
   "metadata": {},
   "outputs": [],
   "source": []
  },
  {
   "cell_type": "code",
   "execution_count": null,
   "id": "2211f6e9-cd07-46a3-bb4b-e00b51cc93f1",
   "metadata": {},
   "outputs": [],
   "source": []
  },
  {
   "cell_type": "code",
   "execution_count": null,
   "id": "873c7a2b-d406-41c3-a8fd-f47484cfc26f",
   "metadata": {},
   "outputs": [],
   "source": []
  },
  {
   "cell_type": "code",
   "execution_count": null,
   "id": "9e3fea8f-cbca-417a-ac48-c56130daf27d",
   "metadata": {},
   "outputs": [],
   "source": []
  },
  {
   "cell_type": "code",
   "execution_count": null,
   "id": "9c86147c-2602-4cec-83ea-d3102a5a2b5e",
   "metadata": {},
   "outputs": [],
   "source": []
  },
  {
   "cell_type": "code",
   "execution_count": null,
   "id": "98fbeb41-4604-47e0-a2c8-bfa943377a95",
   "metadata": {},
   "outputs": [],
   "source": []
  },
  {
   "cell_type": "code",
   "execution_count": null,
   "id": "adaf40f8-c66f-44bb-99af-b96abd1b3051",
   "metadata": {},
   "outputs": [],
   "source": []
  },
  {
   "cell_type": "code",
   "execution_count": null,
   "id": "42d598e2-661e-4ab7-b18f-db571284586e",
   "metadata": {},
   "outputs": [],
   "source": []
  },
  {
   "cell_type": "code",
   "execution_count": null,
   "id": "df95f122-84a3-430b-bb4d-0a5abf249ef0",
   "metadata": {},
   "outputs": [],
   "source": []
  }
 ],
 "metadata": {
  "kernelspec": {
   "display_name": "Python 3 (ipykernel)",
   "language": "python",
   "name": "python3"
  },
  "language_info": {
   "codemirror_mode": {
    "name": "ipython",
    "version": 3
   },
   "file_extension": ".py",
   "mimetype": "text/x-python",
   "name": "python",
   "nbconvert_exporter": "python",
   "pygments_lexer": "ipython3",
   "version": "3.10.14"
  }
 },
 "nbformat": 4,
 "nbformat_minor": 5
}
